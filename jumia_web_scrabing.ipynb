{
 "cells": [
  {
   "cell_type": "code",
   "execution_count": 24,
   "id": "d7d20ead-5ac1-49de-be79-2aa6c12afd94",
   "metadata": {},
   "outputs": [],
   "source": [
    "import requests\n",
    "from bs4 import BeautifulSoup\n",
    "import csv\n",
    "from itertools import zip_longest"
   ]
  },
  {
   "cell_type": "code",
   "execution_count": 25,
   "id": "590f10fd-9c2f-471f-a6b9-d50b6f9b9319",
   "metadata": {},
   "outputs": [],
   "source": [
    "desktop_names=[]"
   ]
  },
  {
   "cell_type": "code",
   "execution_count": 26,
   "id": "66be5899-2385-4ba7-9954-bb839669cc8b",
   "metadata": {},
   "outputs": [],
   "source": [
    "prices=[]"
   ]
  },
  {
   "cell_type": "code",
   "execution_count": 27,
   "id": "318de9f6-1c2d-4fb1-b90c-875db33ce5ae",
   "metadata": {},
   "outputs": [],
   "source": [
    "discounts=[]"
   ]
  },
  {
   "cell_type": "code",
   "execution_count": 28,
   "id": "61908079-b204-4f78-a716-8cbda2be597c",
   "metadata": {},
   "outputs": [],
   "source": [
    "url=requests.get(\"https://www.jumia.com.eg/desktop-computers/\")"
   ]
  },
  {
   "cell_type": "code",
   "execution_count": 29,
   "id": "c0e69a56-a4bc-4286-983b-0c991e2ff8c5",
   "metadata": {},
   "outputs": [],
   "source": [
    "src=url.content"
   ]
  },
  {
   "cell_type": "code",
   "execution_count": 30,
   "id": "25a33831-2c58-419a-af7e-68d30dda1a93",
   "metadata": {},
   "outputs": [],
   "source": [
    "soup=BeautifulSoup(src,\"html.parser\")"
   ]
  },
  {
   "cell_type": "code",
   "execution_count": 31,
   "id": "4468b41c-0a4a-40e1-9dd2-f6a46af0e450",
   "metadata": {},
   "outputs": [],
   "source": [
    "desktop_name=soup.find_all(\"h3\",{\"class\":\"name\"})"
   ]
  },
  {
   "cell_type": "code",
   "execution_count": 32,
   "id": "7f35f86d-1ee5-41b4-8c92-456c87f204ba",
   "metadata": {},
   "outputs": [],
   "source": [
    "price=soup.find_all(\"div\",{\"class\":\"prc\"})"
   ]
  },
  {
   "cell_type": "code",
   "execution_count": 33,
   "id": "8f56791b-adac-4793-9432-f3c6b50fd988",
   "metadata": {},
   "outputs": [],
   "source": [
    "discount=soup.find_all(\"div\",{\"class\":\"bdg _dsct _sm\"})"
   ]
  },
  {
   "cell_type": "code",
   "execution_count": 37,
   "id": "369bef04-8c39-432c-81d0-cb19f9b06970",
   "metadata": {},
   "outputs": [
    {
     "name": "stdout",
     "output_type": "stream",
     "text": [
      "['DELL Pc  Optiplex 7020  Core I5 -12500- 8GB - 512GB SSD', 'Apple IMac 24 M1 512GB Silver ( Arabic + English )', 'Apple IMac 24 M1 512GB  Green ( Arabic + English )', 'HP PC Pro Tower 290 G9 Desktop Intel Core I5-13500, 8GB, 512GB SSD - Intel UHD 770', 'DELL OptiPlex 3000 Tower PC (Intel Core I5-12500, 4GB RAM, 256GB M.2 SSD, Intel UHD Graphics, Keyboard + Mouse)', 'DELL Pc  Optiplex 7020 PLUS Ci7 - 14700- 8GB - 512GB SSD', 'DELL OptiPlex Tower 7020 Core i7 14700 8GB RAM 512GB SSD DOS', \"Apple IMac 24'' M1 8C CPU/8C GPU/ 8GB/ 256GB/ Pink/ AR\", \"Apple IMac 24'' M1 8C CPU 8C GPU - 8GB- 512GB -Pink Arabic Keyboard\", 'Lenovo IdeaCentre All-in-one 3-24IAP7-F0GH00YAAX, Intel Core I3-1215u, 4GB RAM, 256GB SSD, 23.8 Inch FHD-IPS-250nits-Non-Touch , Intel UHD Graphics, Wireless KB + Mouse', 'HP PC All-In-One 24-cr0307nh Desktop Computer, 23.8\" FHD IPS Display, Intel Core I5-1334U, 8GB RAM, 512GB SSD, Intel Iris Xe Graphics, USB Wired Keyboard & Mouse, FreeDOS, White', 'HP PC 27-CR0155nh All-in-One : Intel Core I7-1355U, 8GB, 512GB, 27\" Touch -FHD- 300 Nits -3 Sided Micro-edge - Black', 'DELL Pc  Optiplex 7020  Core I5 -12500- 8GB - 512GB SSD', 'Apple IMac 24 M1 512GB Silver ( Arabic + English )', 'Apple IMac 24 M1 512GB  Green ( Arabic + English )', 'HP PC Pro Tower 290 G9 Desktop Intel Core I5-13500, 8GB, 512GB SSD - Intel UHD 770', 'DELL OptiPlex 3000 Tower PC (Intel Core I5-12500, 4GB RAM, 256GB M.2 SSD, Intel UHD Graphics, Keyboard + Mouse)', 'DELL Pc  Optiplex 7020 PLUS Ci7 - 14700- 8GB - 512GB SSD', 'DELL OptiPlex Tower 7020 Core i7 14700 8GB RAM 512GB SSD DOS', \"Apple IMac 24'' M1 8C CPU/8C GPU/ 8GB/ 256GB/ Pink/ AR\", \"Apple IMac 24'' M1 8C CPU 8C GPU - 8GB- 512GB -Pink Arabic Keyboard\", 'Lenovo IdeaCentre All-in-one 3-24IAP7-F0GH00YAAX, Intel Core I3-1215u, 4GB RAM, 256GB SSD, 23.8 Inch FHD-IPS-250nits-Non-Touch , Intel UHD Graphics, Wireless KB + Mouse', 'HP PC All-In-One 24-cr0307nh Desktop Computer, 23.8\" FHD IPS Display, Intel Core I5-1334U, 8GB RAM, 512GB SSD, Intel Iris Xe Graphics, USB Wired Keyboard & Mouse, FreeDOS, White', 'HP PC 27-CR0155nh All-in-One : Intel Core I7-1355U, 8GB, 512GB, 27\" Touch -FHD- 300 Nits -3 Sided Micro-edge - Black', 'DELL Pc  Optiplex 7020  Core I5 -12500- 8GB - 512GB SSD', 'Apple IMac 24 M1 512GB Silver ( Arabic + English )', 'Apple IMac 24 M1 512GB  Green ( Arabic + English )', 'HP PC Pro Tower 290 G9 Desktop Intel Core I5-13500, 8GB, 512GB SSD - Intel UHD 770', 'DELL OptiPlex 3000 Tower PC (Intel Core I5-12500, 4GB RAM, 256GB M.2 SSD, Intel UHD Graphics, Keyboard + Mouse)', 'DELL Pc  Optiplex 7020 PLUS Ci7 - 14700- 8GB - 512GB SSD', 'DELL OptiPlex Tower 7020 Core i7 14700 8GB RAM 512GB SSD DOS', \"Apple IMac 24'' M1 8C CPU/8C GPU/ 8GB/ 256GB/ Pink/ AR\", \"Apple IMac 24'' M1 8C CPU 8C GPU - 8GB- 512GB -Pink Arabic Keyboard\", 'Lenovo IdeaCentre All-in-one 3-24IAP7-F0GH00YAAX, Intel Core I3-1215u, 4GB RAM, 256GB SSD, 23.8 Inch FHD-IPS-250nits-Non-Touch , Intel UHD Graphics, Wireless KB + Mouse', 'HP PC All-In-One 24-cr0307nh Desktop Computer, 23.8\" FHD IPS Display, Intel Core I5-1334U, 8GB RAM, 512GB SSD, Intel Iris Xe Graphics, USB Wired Keyboard & Mouse, FreeDOS, White', 'HP PC 27-CR0155nh All-in-One : Intel Core I7-1355U, 8GB, 512GB, 27\" Touch -FHD- 300 Nits -3 Sided Micro-edge - Black', 'DELL Pc  Optiplex 7020  Core I5 -12500- 8GB - 512GB SSD', 'Apple IMac 24 M1 512GB Silver ( Arabic + English )', 'Apple IMac 24 M1 512GB  Green ( Arabic + English )', 'HP PC Pro Tower 290 G9 Desktop Intel Core I5-13500, 8GB, 512GB SSD - Intel UHD 770', 'DELL OptiPlex 3000 Tower PC (Intel Core I5-12500, 4GB RAM, 256GB M.2 SSD, Intel UHD Graphics, Keyboard + Mouse)', 'DELL Pc  Optiplex 7020 PLUS Ci7 - 14700- 8GB - 512GB SSD', 'DELL OptiPlex Tower 7020 Core i7 14700 8GB RAM 512GB SSD DOS', \"Apple IMac 24'' M1 8C CPU/8C GPU/ 8GB/ 256GB/ Pink/ AR\", \"Apple IMac 24'' M1 8C CPU 8C GPU - 8GB- 512GB -Pink Arabic Keyboard\", 'Lenovo IdeaCentre All-in-one 3-24IAP7-F0GH00YAAX, Intel Core I3-1215u, 4GB RAM, 256GB SSD, 23.8 Inch FHD-IPS-250nits-Non-Touch , Intel UHD Graphics, Wireless KB + Mouse', 'HP PC All-In-One 24-cr0307nh Desktop Computer, 23.8\" FHD IPS Display, Intel Core I5-1334U, 8GB RAM, 512GB SSD, Intel Iris Xe Graphics, USB Wired Keyboard & Mouse, FreeDOS, White', 'HP PC 27-CR0155nh All-in-One : Intel Core I7-1355U, 8GB, 512GB, 27\" Touch -FHD- 300 Nits -3 Sided Micro-edge - Black', 'HP PC 27-CR0086nh All-in-One : Intel Core I7-1355U, 8GB, 512GB, 27\" Non Touch -FHD- 300nits -3 Sided Micro-edge - Black'] ['EGP 22,222.00', 'EGP 88,000.00', 'EGP 88,000.00', 'EGP 23,555.00', 'EGP 30,000.00', 'EGP 35,570.00', 'EGP 35,950.00', 'EGP 74,955.00', 'EGP 88,000.00', 'EGP 24,828.00', 'EGP 40,740.00', 'EGP 54,699.00', 'EGP 22,222.00', 'EGP 88,000.00', 'EGP 88,000.00', 'EGP 23,555.00', 'EGP 30,000.00', 'EGP 35,570.00', 'EGP 35,950.00', 'EGP 74,955.00', 'EGP 88,000.00', 'EGP 24,828.00', 'EGP 40,740.00', 'EGP 54,699.00', 'EGP 22,222.00', 'EGP 88,000.00', 'EGP 88,000.00', 'EGP 23,555.00', 'EGP 30,000.00', 'EGP 35,570.00', 'EGP 35,950.00', 'EGP 74,955.00', 'EGP 88,000.00', 'EGP 24,828.00', 'EGP 40,740.00', 'EGP 54,699.00', 'EGP 22,222.00', 'EGP 88,000.00', 'EGP 88,000.00', 'EGP 23,555.00', 'EGP 30,000.00', 'EGP 35,570.00', 'EGP 35,950.00', 'EGP 74,955.00', 'EGP 88,000.00', 'EGP 24,828.00', 'EGP 40,740.00', 'EGP 54,699.00', 'EGP 52,299.00'] ['5%', '8%', '8%', '4%', '3%', '5%', '8%', '4%', '2%', '1%', '1%', '5%', '8%', '8%', '4%', '3%', '5%', '8%', '4%', '2%', '1%', '1%', '5%', '8%', '8%', '4%', '3%', '5%', '8%', '4%', '2%', '1%', '1%', '5%', '8%', '8%', '4%', '3%', '5%', '8%', '4%', '2%', '1%', '1%', 'No discount', 'No discount']\n"
     ]
    }
   ],
   "source": [
    "for i in range(len(desktop_name)):\n",
    "    desktop_names.append(desktop_name[i].text)\n",
    "    prices.append(price[i].text if i < len(price) else \"Price not available\")\n",
    "    discounts.append(discount[i].text if i < len(discount) else \"No discount\")\n",
    "\n",
    "print(desktop_names, prices, discounts)"
   ]
  },
  {
   "cell_type": "code",
   "execution_count": 47,
   "id": "c130a4c3-2981-4f58-8cb2-dbeac11ad123",
   "metadata": {},
   "outputs": [],
   "source": [
    "my_list = [desktop_names, prices, discounts]\n",
    "emport = zip_longest(*my_list)\n",
    "\n",
    "with open(\"s1.csv\", \"w\", newline='') as myFile:\n",
    "    wr = csv.writer(myFile)\n",
    "    wr.writerow([\"desktop_name\", \"price\", \"discount\"])\n",
    "    wr.writerows(emport)"
   ]
  },
  {
   "cell_type": "code",
   "execution_count": null,
   "id": "0b16fd0c-d908-449d-8ef0-87007a250a09",
   "metadata": {},
   "outputs": [],
   "source": []
  }
 ],
 "metadata": {
  "kernelspec": {
   "display_name": "Python 3 (ipykernel)",
   "language": "python",
   "name": "python3"
  },
  "language_info": {
   "codemirror_mode": {
    "name": "ipython",
    "version": 3
   },
   "file_extension": ".py",
   "mimetype": "text/x-python",
   "name": "python",
   "nbconvert_exporter": "python",
   "pygments_lexer": "ipython3",
   "version": "3.12.7"
  }
 },
 "nbformat": 4,
 "nbformat_minor": 5
}
